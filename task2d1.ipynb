{
  "nbformat": 4,
  "nbformat_minor": 0,
  "metadata": {
    "colab": {
      "provenance": [],
      "authorship_tag": "ABX9TyPdQZbOEB21m3Nysr0pul4b",
      "include_colab_link": true
    },
    "kernelspec": {
      "name": "python3",
      "display_name": "Python 3"
    },
    "language_info": {
      "name": "python"
    }
  },
  "cells": [
    {
      "cell_type": "markdown",
      "metadata": {
        "id": "view-in-github",
        "colab_type": "text"
      },
      "source": [
        "<a href=\"https://colab.research.google.com/github/adithya-183/ML-INTERNSHIP/blob/main/task2d1.ipynb\" target=\"_parent\"><img src=\"https://colab.research.google.com/assets/colab-badge.svg\" alt=\"Open In Colab\"/></a>"
      ]
    },
    {
      "cell_type": "code",
      "execution_count": 1,
      "metadata": {
        "id": "kWCPy0m8_0JT"
      },
      "outputs": [],
      "source": [
        "import numpy as np # linear algebra\n",
        "import pandas as pd"
      ]
    },
    {
      "cell_type": "code",
      "source": [
        "df = pd.read_csv(\"/content/Electric_Vehicle_Population_Data.csv\")"
      ],
      "metadata": {
        "id": "wjtEbJMX_30t"
      },
      "execution_count": 3,
      "outputs": []
    },
    {
      "cell_type": "code",
      "source": [
        "df.info()"
      ],
      "metadata": {
        "colab": {
          "base_uri": "https://localhost:8080/"
        },
        "id": "UIW50G4pAYiS",
        "outputId": "18a2f8e0-a186-4cbd-978d-c7d45fdb6304"
      },
      "execution_count": 4,
      "outputs": [
        {
          "output_type": "stream",
          "name": "stdout",
          "text": [
            "<class 'pandas.core.frame.DataFrame'>\n",
            "RangeIndex: 34882 entries, 0 to 34881\n",
            "Data columns (total 17 columns):\n",
            " #   Column                                             Non-Null Count  Dtype  \n",
            "---  ------                                             --------------  -----  \n",
            " 0   VIN (1-10)                                         34882 non-null  object \n",
            " 1   County                                             34881 non-null  object \n",
            " 2   City                                               34881 non-null  object \n",
            " 3   State                                              34882 non-null  object \n",
            " 4   Postal Code                                        34881 non-null  float64\n",
            " 5   Model Year                                         34882 non-null  int64  \n",
            " 6   Make                                               34882 non-null  object \n",
            " 7   Model                                              34882 non-null  object \n",
            " 8   Electric Vehicle Type                              34882 non-null  object \n",
            " 9   Clean Alternative Fuel Vehicle (CAFV) Eligibility  34882 non-null  object \n",
            " 10  Electric Range                                     34882 non-null  int64  \n",
            " 11  Base MSRP                                          34882 non-null  int64  \n",
            " 12  Legislative District                               34881 non-null  float64\n",
            " 13  DOL Vehicle ID                                     34882 non-null  int64  \n",
            " 14  Vehicle Location                                   34881 non-null  object \n",
            " 15  Electric Utility                                   34880 non-null  object \n",
            " 16  2020 Census Tract                                  34880 non-null  float64\n",
            "dtypes: float64(3), int64(4), object(10)\n",
            "memory usage: 4.5+ MB\n"
          ]
        }
      ]
    },
    {
      "cell_type": "code",
      "source": [
        "df.columns # Just to show the column names"
      ],
      "metadata": {
        "colab": {
          "base_uri": "https://localhost:8080/"
        },
        "id": "C_0JVEU5AcEI",
        "outputId": "f8faccc4-492f-4900-b988-88dc952f6a9d"
      },
      "execution_count": 5,
      "outputs": [
        {
          "output_type": "execute_result",
          "data": {
            "text/plain": [
              "Index(['VIN (1-10)', 'County', 'City', 'State', 'Postal Code', 'Model Year',\n",
              "       'Make', 'Model', 'Electric Vehicle Type',\n",
              "       'Clean Alternative Fuel Vehicle (CAFV) Eligibility', 'Electric Range',\n",
              "       'Base MSRP', 'Legislative District', 'DOL Vehicle ID',\n",
              "       'Vehicle Location', 'Electric Utility', '2020 Census Tract'],\n",
              "      dtype='object')"
            ]
          },
          "metadata": {},
          "execution_count": 5
        }
      ]
    },
    {
      "cell_type": "code",
      "source": [
        "Car_Popularity = df.value_counts([\"Make\",\"Model\"],ascending=True)"
      ],
      "metadata": {
        "id": "HttRpRxqAf35"
      },
      "execution_count": 6,
      "outputs": []
    },
    {
      "cell_type": "markdown",
      "source": [],
      "metadata": {
        "id": "e_H_KSnzAlma"
      }
    },
    {
      "cell_type": "markdown",
      "source": [
        "a DataFrame called Car_Popularity that contains the counts of unique combinations of \"Make\" and \"Model\" in the original DataFrame 'df'. The counts are sorted in ascending order, providing a view of the popularity of different car makes and models based on the dataset.\n",
        "\n"
      ],
      "metadata": {
        "id": "n9tdjjTLAlp0"
      }
    },
    {
      "cell_type": "code",
      "source": [
        "Car_Popularity"
      ],
      "metadata": {
        "colab": {
          "base_uri": "https://localhost:8080/"
        },
        "id": "TjQlf4K0AnCY",
        "outputId": "58afb0ce-6e72-44f7-c4eb-44095552ffa8"
      },
      "execution_count": 7,
      "outputs": [
        {
          "output_type": "execute_result",
          "data": {
            "text/plain": [
              "Make                  Model      \n",
              "WHEEGO ELECTRIC CARS  WHEEGO            1\n",
              "TH!NK                 CITY              1\n",
              "AUDI                  A8 E              1\n",
              "BMW                   I7                1\n",
              "LAND ROVER            RANGE ROVER       1\n",
              "                                     ... \n",
              "CHEVROLET             BOLT EV        1261\n",
              "TESLA                 MODEL S        1544\n",
              "NISSAN                LEAF           2847\n",
              "TESLA                 MODEL 3        6547\n",
              "                      MODEL Y        6999\n",
              "Length: 126, dtype: int64"
            ]
          },
          "metadata": {},
          "execution_count": 7
        }
      ]
    },
    {
      "cell_type": "markdown",
      "source": [
        "bar graph showing the popularity of tesla model 3,y,x&s\n",
        "\n",
        "\n",
        "\n"
      ],
      "metadata": {
        "id": "Q1v5ihrPAs9C"
      }
    },
    {
      "cell_type": "code",
      "source": [
        "#Adjust the output window size for better view\n",
        "import matplotlib.pyplot as plt\n",
        "fig = plt.figure()\n",
        "ax = fig.add_axes([0,0,1,1])\n",
        "courses = ['TESLA MODEL 3','TESLA MODEL Y','tesla moddel x','tesla model s']\n",
        "students_enrolled = [ 16237,18066,3265,4139]\n",
        "ax.bar(courses,students_enrolled)\n",
        "plt.show()"
      ],
      "metadata": {
        "colab": {
          "base_uri": "https://localhost:8080/",
          "height": 540
        },
        "id": "itHOV9UrA5Up",
        "outputId": "61917a07-7de3-4592-9b90-d6502a7a5bdf"
      },
      "execution_count": 8,
      "outputs": [
        {
          "output_type": "display_data",
          "data": {
            "text/plain": [
              "<Figure size 640x480 with 1 Axes>"
            ],
            "image/png": "[encoded data removed]"
          },
          "metadata": {}
        }
      ]
    },
    {
      "cell_type": "markdown",
      "source": [
        "histogram -popularity vs cars\n"
      ],
      "metadata": {
        "id": "lix81_lsBFsV"
      }
    },
    {
      "cell_type": "code",
      "source": [
        "import matplotlib.pyplot as plt\n",
        "import numpy as np\n",
        "a=np.array([1,1,1,1,1, 3265, 4139, 6457,16237, 18066])\n",
        "plt.hist(a)\n",
        "ax.set_xlabel('popularity')\n",
        "ax.set_ylabel('cars')\n",
        "plt.show()"
      ],
      "metadata": {
        "colab": {
          "base_uri": "https://localhost:8080/",
          "height": 430
        },
        "id": "cij2jI_oBSdM",
        "outputId": "916d02bd-b5c7-48cd-8cd9-d0a80d70b420"
      },
      "execution_count": 9,
      "outputs": [
        {
          "output_type": "display_data",
          "data": {
            "text/plain": [
              "<Figure size 640x480 with 1 Axes>"
            ],
            "image/png": "[encoded data removed]"
          },
          "metadata": {}
        }
      ]
    },
    {
      "cell_type": "markdown",
      "source": [
        "pie chart showing the popularity of tesla model 3,y,x,s"
      ],
      "metadata": {
        "id": "Cvr_9VHUBaLf"
      }
    },
    {
      "cell_type": "code",
      "source": [
        "import matplotlib.pyplot as plt\n",
        "fig=plt.figure()\n",
        "ax=fig.add_axes([0,0,1,1])\n",
        "cars=['tesla model 3','tesla model y','tesla moddel x','tesla model s']\n",
        "popularity=[16237,18066,3265,4139]\n",
        "ax.pie(popularity,labels=cars)\n",
        "plt.show()"
      ],
      "metadata": {
        "colab": {
          "base_uri": "https://localhost:8080/",
          "height": 516
        },
        "id": "QwfyRONkBcuF",
        "outputId": "5bd023c3-b29e-4463-c491-755e3c0d031e"
      },
      "execution_count": 10,
      "outputs": [
        {
          "output_type": "display_data",
          "data": {
            "text/plain": [
              "<Figure size 640x480 with 1 Axes>"
            ],
            "image/png": "[encoded data removed]"
          },
          "metadata": {}
        }
      ]
    },
    {
      "cell_type": "code",
      "source": [
        "CarsPerCity = df.value_counts([\"City\"],ascending = True)"
      ],
      "metadata": {
        "id": "2idepZPJBkVZ"
      },
      "execution_count": 11,
      "outputs": []
    },
    {
      "cell_type": "code",
      "source": [
        "CarsPerCity"
      ],
      "metadata": {
        "colab": {
          "base_uri": "https://localhost:8080/"
        },
        "id": "QWrKoxiUBogt",
        "outputId": "4005d530-613b-4b09-d96f-c7e41decab58"
      },
      "execution_count": 12,
      "outputs": [
        {
          "output_type": "execute_result",
          "data": {
            "text/plain": [
              "City     \n",
              "Cle Elum        1\n",
              "Chelan          1\n",
              "Bucoda          1\n",
              "Chimacum        1\n",
              "Kittitas        1\n",
              "             ... \n",
              "Redmond      1622\n",
              "Vancouver    2179\n",
              "Kirkland     2351\n",
              "Bellevue     3501\n",
              "Seattle      6953\n",
              "Length: 142, dtype: int64"
            ]
          },
          "metadata": {},
          "execution_count": 12
        }
      ]
    },
    {
      "cell_type": "code",
      "source": [
        "CarsPerCity.describe()"
      ],
      "metadata": {
        "colab": {
          "base_uri": "https://localhost:8080/"
        },
        "id": "W8ILYiI4BsjH",
        "outputId": "6eba5495-a58b-425d-bc73-27400adfa984"
      },
      "execution_count": 13,
      "outputs": [
        {
          "output_type": "execute_result",
          "data": {
            "text/plain": [
              "count     142.000000\n",
              "mean      245.640845\n",
              "std       740.598745\n",
              "min         1.000000\n",
              "25%         4.250000\n",
              "50%        28.500000\n",
              "75%       161.250000\n",
              "max      6953.000000\n",
              "dtype: float64"
            ]
          },
          "metadata": {},
          "execution_count": 13
        }
      ]
    },
    {
      "cell_type": "code",
      "source": [
        "CarsPerCity.info()"
      ],
      "metadata": {
        "colab": {
          "base_uri": "https://localhost:8080/"
        },
        "id": "iSVqzfSBBv7L",
        "outputId": "bd71d287-06f3-46c9-e1a7-2ec401cfe873"
      },
      "execution_count": 14,
      "outputs": [
        {
          "output_type": "stream",
          "name": "stdout",
          "text": [
            "<class 'pandas.core.series.Series'>\n",
            "MultiIndex: 142 entries, ('Cle Elum',) to ('Seattle',)\n",
            "Series name: None\n",
            "Non-Null Count  Dtype\n",
            "--------------  -----\n",
            "142 non-null    int64\n",
            "dtypes: int64(1)\n",
            "memory usage: 6.6+ KB\n"
          ]
        }
      ]
    },
    {
      "cell_type": "code",
      "source": [
        "Car_range = df.value_counts([\"Make\",\"Model\",\"Electric Range\"],ascending=True)"
      ],
      "metadata": {
        "id": "0JV7XyKKB0r7"
      },
      "execution_count": 15,
      "outputs": []
    },
    {
      "cell_type": "code",
      "source": [
        "Car_range"
      ],
      "metadata": {
        "colab": {
          "base_uri": "https://localhost:8080/"
        },
        "id": "ZsaEX34gB5Oi",
        "outputId": "a23d8e80-5b59-4934-a717-d4256c7153b3"
      },
      "execution_count": 16,
      "outputs": [
        {
          "output_type": "execute_result",
          "data": {
            "text/plain": [
              "Make                  Model                     Electric Range\n",
              "WHEEGO ELECTRIC CARS  WHEEGO                    100                  1\n",
              "HONDA                 CLARITY                   48                   1\n",
              "AZURE DYNAMICS        TRANSIT CONNECT ELECTRIC  56                   1\n",
              "BMW                   I7                        0                    1\n",
              "LAND ROVER            RANGE ROVER               19                   1\n",
              "                                                                  ... \n",
              "NISSAN                LEAF                      84                 789\n",
              "TESLA                 MODEL 3                   220                890\n",
              "                                                215               1383\n",
              "                                                0                 3439\n",
              "                      MODEL Y                   0                 6493\n",
              "Length: 239, dtype: int64"
            ]
          },
          "metadata": {},
          "execution_count": 16
        }
      ]
    }
  ]
}